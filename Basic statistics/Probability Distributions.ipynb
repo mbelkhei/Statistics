{
 "cells": [
  {
   "cell_type": "code",
   "execution_count": 35,
   "metadata": {
    "collapsed": true
   },
   "outputs": [],
   "source": [
    "%matplotlib inline\n",
    "import numpy as np\n",
    "import pandas as pd\n",
    "import matplotlib.pyplot as plt\n",
    "import scipy.stats  as stats\n",
    "import random"
   ]
  },
  {
   "cell_type": "markdown",
   "metadata": {
    "collapsed": true
   },
   "source": [
    "# Probability Distributions"
   ]
  },
  {
   "cell_type": "markdown",
   "metadata": {},
   "source": [
    "Many statistical tools and techniques used in data analysis are based on probability. Probability measures how likely it is for an event to occur on a scale from 0 (the event never occurs) to 1 (the event always occurs).\n",
    "\n",
    "In statistics, there are a range of precisely defined probability distributions that have different shapes and can be used to model different types of random events. In this notebook we'll look at some common probability distributions and how to work with them in Python."
   ]
  },
  {
   "cell_type": "markdown",
   "metadata": {},
   "source": [
    "### The uniform distribution"
   ]
  },
  {
   "cell_type": "markdown",
   "metadata": {},
   "source": [
    "The uniform distribution is a probability distribution where each value within a certain range is equally likely to occur and values outside of the range never occur"
   ]
  },
  {
   "cell_type": "code",
   "execution_count": 2,
   "metadata": {
    "collapsed": true
   },
   "outputs": [],
   "source": [
    "uniform_data = stats.uniform.rvs(size=100000,  # Generate 100000 numbers\n",
    "                                 loc = 0,      # From 0 \n",
    "                                scale=10)     # To 10"
   ]
  },
  {
   "cell_type": "code",
   "execution_count": 5,
   "metadata": {},
   "outputs": [
    {
     "data": {
      "text/plain": [
       "<matplotlib.axes._subplots.AxesSubplot at 0xb68b1d0>"
      ]
     },
     "execution_count": 5,
     "metadata": {},
     "output_type": "execute_result"
    },
    {
     "data": {
      "image/png": "[encoded data removed]",
      "text/plain": [
       "<matplotlib.figure.Figure at 0xa8f56d8>"
      ]
     },
     "metadata": {},
     "output_type": "display_data"
    }
   ],
   "source": [
    "pd.DataFrame(uniform_data).plot(kind=\"density\",  # Plot the distribution\n",
    "                               figsize=(9,9),\n",
    "                               xlim=(-1,11),\n",
    "                               title='Uniform Distribution')"
   ]
  },
  {
   "cell_type": "markdown",
   "metadata": {},
   "source": [
    "For the Uniform distibution the area under a probability density curve is always equal to 1.\n",
    "\n",
    "With Stats in Python, cdf() gives the area under the distribution's density curve to the left of a certain value on the x axis. For example, in the uniform distribution above, there is a 25% chance that an observation will be in the range 0 to 2.5 and a 75% chance it will fall in the range 2.5 to 10. We can confirm this with cdf():"
   ]
  },
  {
   "cell_type": "code",
   "execution_count": 73,
   "metadata": {},
   "outputs": [
    {
     "data": {
      "text/plain": [
       "0.25"
      ]
     },
     "execution_count": 73,
     "metadata": {},
     "output_type": "execute_result"
    }
   ],
   "source": [
    "stats.uniform.cdf(x=2.5,         # Cutoff value (quantile) to check\n",
    "                  loc=0,         # Distribution start\n",
    "                  scale=10)      # Distribution end"
   ]
  },
  {
   "cell_type": "markdown",
   "metadata": {},
   "source": [
    "ppf() is the inverse of cdf(): it returns the x axis cutoff value (quantile) associated with a given probability. For instance, if we want to know the cutoff value for which we have a 40% chance of drawing an observation below that value, we can use ppf():"
   ]
  },
  {
   "cell_type": "code",
   "execution_count": 50,
   "metadata": {},
   "outputs": [
    {
     "data": {
      "text/plain": [
       "4.0"
      ]
     },
     "execution_count": 50,
     "metadata": {},
     "output_type": "execute_result"
    }
   ],
   "source": [
    "stats.uniform.ppf(q=0.4,         # Probability cutoff\n",
    "                  loc=0,         # Distribution start\n",
    "                  scale=10)      # Distribution end"
   ]
  },
  {
   "cell_type": "markdown",
   "metadata": {},
   "source": [
    "pdf() gives the probability density (height of the distribution) at a given x value. Since the uniform distribution is flat, all x values within its range will have the same probability density and x values outside the range have a probability density of 0:"
   ]
  },
  {
   "cell_type": "code",
   "execution_count": 9,
   "metadata": {},
   "outputs": [
    {
     "name": "stdout",
     "output_type": "stream",
     "text": [
      "Density at x value -1\n",
      "0.0\n",
      "Density at x value 2\n",
      "0.1\n",
      "Density at x value 5\n",
      "0.1\n",
      "Density at x value 8\n",
      "0.1\n",
      "Density at x value 11\n",
      "0.0\n"
     ]
    }
   ],
   "source": [
    "for x in range(-1,12,3):\n",
    "    print(\"Density at x value \" + str(x))\n",
    "    print( stats.uniform.pdf(x, loc=0, scale=10))"
   ]
  },
  {
   "cell_type": "markdown",
   "metadata": {},
   "source": [
    "### The Normal Distribution"
   ]
  },
  {
   "cell_type": "markdown",
   "metadata": {},
   "source": [
    "The normal or Gaussian distribution is a continuous probability distribution characterized by a symmetric bell-shaped curve. A normal distribution is defined by its center (mean) and spread (standard deviation.). The bulk of the observations generated from a normal distribution lie near the mean, which lies at the exact center of the distribution: as a rule of thumb, about 68% of the data lies within 1 standard deviation of the mean, 95% lies within 2 standard deviations and 99.7% lies within 3 standard deviations.\n",
    "\n",
    "The normal distribution is perhaps the most important distribution in all of statistics. It turns out that many real world phenomena, like IQ test scores and human heights, roughly follow a normal distribution, so it is often used to model random variables. Many common statistical tests assume distributions are normal."
   ]
  },
  {
   "cell_type": "code",
   "execution_count": 12,
   "metadata": {},
   "outputs": [
    {
     "name": "stdout",
     "output_type": "stream",
     "text": [
      "0.158655253931 0.158655253931 0.682689492137\n"
     ]
    }
   ],
   "source": [
    "prob_under_minus1 = stats.norm.cdf(x= -1,  \n",
    "                                loc = 0,               \n",
    "                                scale= 1)     \n",
    "\n",
    "prob_over_1 = 1 - stats.norm.cdf(x= 1,  \n",
    "                                loc = 0,               \n",
    "                                scale= 1) \n",
    "\n",
    "between_prob = 1-(prob_under_minus1+prob_over_1)\n",
    "\n",
    "print(prob_under_minus1, prob_over_1, between_prob)"
   ]
  },
  {
   "cell_type": "code",
   "execution_count": 14,
   "metadata": {},
   "outputs": [
    {
     "data": {
      "text/plain": [
       "<matplotlib.text.Text at 0xad8c710>"
      ]
     },
     "execution_count": 14,
     "metadata": {},
     "output_type": "execute_result"
    },
    {
     "data": {
      "image/png": "[encoded data removed]",
      "text/plain": [
       "<matplotlib.figure.Figure at 0xbd87da0>"
      ]
     },
     "metadata": {},
     "output_type": "display_data"
    }
   ],
   "source": [
    "# Plot normal distribution areas*\n",
    "\n",
    "plt.rcParams[\"figure.figsize\"] = (9,9)\n",
    "                                  \n",
    "plt.fill_between(x=np.arange(-4,-1,0.01), \n",
    "                 y1= stats.norm.pdf(np.arange(-4,-1,0.01)) ,\n",
    "                 facecolor='red',\n",
    "                 alpha=0.35)\n",
    "\n",
    "plt.fill_between(x=np.arange(1,4,0.01), \n",
    "                 y1= stats.norm.pdf(np.arange(1,4,0.01)) ,\n",
    "                 facecolor='red',\n",
    "                 alpha=0.35)\n",
    "\n",
    "plt.fill_between(x=np.arange(-1,1,0.01), \n",
    "                 y1= stats.norm.pdf(np.arange(-1,1,0.01)) ,\n",
    "                 facecolor='blue',\n",
    "                 alpha=0.35)\n",
    "\n",
    "plt.text(x=-1.8, y=0.03, s= round(prob_under_minus1,3))\n",
    "plt.text(x=-0.2, y=0.1, s= round(between_prob,3))\n",
    "plt.text(x=1.4, y=0.03, s= round(prob_over_1,3))\n",
    "plt.title('Normal Distribution')"
   ]
  },
  {
   "cell_type": "markdown",
   "metadata": {},
   "source": [
    "Finding quantiles of the normal distribution is a common task when performing statistical tests. You can check normal distribution quantiles with stats.norm.ppf():"
   ]
  },
  {
   "cell_type": "code",
   "execution_count": 15,
   "metadata": {},
   "outputs": [
    {
     "name": "stdout",
     "output_type": "stream",
     "text": [
      "-1.95996398454\n",
      "1.95996398454\n"
     ]
    }
   ],
   "source": [
    "print( stats.norm.ppf(q=0.025) ) # Find the quantile for the 2.5% cutoff\n",
    "\n",
    "print( stats.norm.ppf(q=0.975) ) # Find the quantile for the 97.5% cutoff"
   ]
  },
  {
   "cell_type": "markdown",
   "metadata": {},
   "source": [
    "### The Binomial Distribution"
   ]
  },
  {
   "cell_type": "markdown",
   "metadata": {},
   "source": [
    "The binomial distribution is a discrete probability distribution that models the outcomes of a given number of random trails of some experiment or event. The binomial is defined by two parameters: the probability of success in any given trial and the number of trials."
   ]
  },
  {
   "cell_type": "code",
   "execution_count": 19,
   "metadata": {},
   "outputs": [
    {
     "name": "stdout",
     "output_type": "stream",
     "text": [
      "col_0   0   1    2     3     4     5     6     7    8    9   10\n",
      "row_0                                                          \n",
      "counts  12  75  440  1151  2075  2478  2078  1144  431  101  15\n"
     ]
    },
    {
     "data": {
      "text/plain": [
       "array([[<matplotlib.axes._subplots.AxesSubplot object at 0x000000000BECC160>]], dtype=object)"
      ]
     },
     "execution_count": 19,
     "metadata": {},
     "output_type": "execute_result"
    },
    {
     "data": {
      "image/png": "[encoded data removed]",
      "text/plain": [
       "<matplotlib.figure.Figure at 0xb9f06d8>"
      ]
     },
     "metadata": {},
     "output_type": "display_data"
    }
   ],
   "source": [
    "fair_coin_flips = stats.binom.rvs(n=10,        # Number of flips per trial\n",
    "                                  p=0.5,       # Success probability\n",
    "                                  size=10000)  # Number of trials\n",
    "\n",
    "print( pd.crosstab(index=\"counts\", columns= fair_coin_flips))\n",
    "\n",
    "pd.DataFrame(fair_coin_flips).hist(range=(-0.5,10.5), bins=11, grid=False)"
   ]
  },
  {
   "cell_type": "markdown",
   "metadata": {},
   "source": [
    "When the probability of success is 0.5 the distribution is similar to the normal distribution, but if we alter the success probability, the distribution won't be symmetric:"
   ]
  },
  {
   "cell_type": "code",
   "execution_count": 22,
   "metadata": {},
   "outputs": [
    {
     "name": "stdout",
     "output_type": "stream",
     "text": [
      "col_0   3   4    5    6     7     8     9     10\n",
      "row_0                                           \n",
      "counts   4  57  256  867  1928  3047  2745  1096\n"
     ]
    },
    {
     "data": {
      "text/plain": [
       "array([[<matplotlib.axes._subplots.AxesSubplot object at 0x000000000C3FEDD8>]], dtype=object)"
      ]
     },
     "execution_count": 22,
     "metadata": {},
     "output_type": "execute_result"
    },
    {
     "data": {
      "image/png": "[encoded data removed]",
      "text/plain": [
       "<matplotlib.figure.Figure at 0xbf2dda0>"
      ]
     },
     "metadata": {},
     "output_type": "display_data"
    }
   ],
   "source": [
    "\n",
    "biased_coin_flips = stats.binom.rvs(n=10,      # Number of flips per trial\n",
    "                                  p=0.8,       # Success probability\n",
    "                                  size=10000)  # Number of trials\n",
    "\n",
    "# Print table of counts\n",
    "print( pd.crosstab(index=\"counts\", columns= biased_coin_flips))\n",
    "\n",
    "# Plot histogram\n",
    "pd.DataFrame(biased_coin_flips).hist(range=(-0.5,10.5), bins=11, grid=False)"
   ]
  },
  {
   "cell_type": "markdown",
   "metadata": {},
   "source": [
    "The cdf() function lets us check the probability of achieving a number of successes within a certain range:"
   ]
  },
  {
   "cell_type": "code",
   "execution_count": 23,
   "metadata": {},
   "outputs": [
    {
     "data": {
      "text/plain": [
       "0.032793497599999964"
      ]
     },
     "execution_count": 23,
     "metadata": {},
     "output_type": "execute_result"
    }
   ],
   "source": [
    "stats.binom.cdf(k=5,        # Probability of k = 5 successes or less\n",
    "                n=10,       # With 10 flips\n",
    "                p=0.8)      # And success probability 0.8"
   ]
  },
  {
   "cell_type": "code",
   "execution_count": 24,
   "metadata": {},
   "outputs": [
    {
     "data": {
      "text/plain": [
       "0.96720650240000006"
      ]
     },
     "execution_count": 24,
     "metadata": {},
     "output_type": "execute_result"
    }
   ],
   "source": [
    "1-stats.binom.cdf(k=5,      # Probability of k = 6 successes of more\n",
    "                  n=10,     # with 10 flips  \n",
    "                  p=0.8)    # And success probability 0.8"
   ]
  },
  {
   "cell_type": "markdown",
   "metadata": {},
   "source": [
    "For discreet values, we use the Probability mass function "
   ]
  },
  {
   "cell_type": "code",
   "execution_count": 25,
   "metadata": {},
   "outputs": [
    {
     "data": {
      "text/plain": [
       "0.24609375000000025"
      ]
     },
     "execution_count": 25,
     "metadata": {},
     "output_type": "execute_result"
    }
   ],
   "source": [
    "stats.binom.pmf(k=5,        # Probability of k = 5 successes\n",
    "                n=10,       # With 10 flips\n",
    "                p=0.5)      # And success probability 0.5"
   ]
  },
  {
   "cell_type": "code",
   "execution_count": 26,
   "metadata": {},
   "outputs": [
    {
     "data": {
      "text/plain": [
       "0.30198988799999998"
      ]
     },
     "execution_count": 26,
     "metadata": {},
     "output_type": "execute_result"
    }
   ],
   "source": [
    "stats.binom.pmf(k=8,        # Probability of k = 8 successes\n",
    "                n=10,       # With 10 flips\n",
    "                p=0.8)      # And success probability 0.8"
   ]
  },
  {
   "cell_type": "markdown",
   "metadata": {},
   "source": [
    "### The Geometric and Exponential Distributions"
   ]
  },
  {
   "cell_type": "markdown",
   "metadata": {},
   "source": [
    "\n",
    "The geometric and exponential distributions model the time it takes for an event to occur. \n",
    "- **The geometric distribution:** is discrete and models the number of trials it takes to achieve a success in repeated experiments with a given probability of success. \n",
    "- **The exponential distribution:** is a continuous analog of the geometric distribution and models the amount of time you have to wait before an event occurs given a certain occurrence rate."
   ]
  },
  {
   "cell_type": "code",
   "execution_count": 45,
   "metadata": {},
   "outputs": [
    {
     "name": "stdout",
     "output_type": "stream",
     "text": [
      "col_0     1     2     3    4    5    6   7   8   9   10  11  12  13  15\n",
      "row_0                                                                  \n",
      "counts  4972  2447  1250  698  306  163  93  39  14   8   3   2   4   1\n"
     ]
    },
    {
     "data": {
      "text/plain": [
       "array([[<matplotlib.axes._subplots.AxesSubplot object at 0x000000000DC095F8>]], dtype=object)"
      ]
     },
     "execution_count": 45,
     "metadata": {},
     "output_type": "execute_result"
    },
    {
     "data": {
      "image/png": "[encoded data removed]",
      "text/plain": [
       "<matplotlib.figure.Figure at 0xdc54cf8>"
      ]
     },
     "metadata": {},
     "output_type": "display_data"
    }
   ],
   "source": [
    "random.seed(12)\n",
    "\n",
    "flips_till_heads = stats.geom.rvs(size=10000,  # Generate geometric data\n",
    "                                  p=0.5)       # With success prob 0.5\n",
    "\n",
    "# Print table of counts\n",
    "print( pd.crosstab(index=\"counts\", columns= flips_till_heads))\n",
    "\n",
    "# Plot histogram\n",
    "pd.DataFrame(flips_till_heads).hist(range=(-0.5,max(flips_till_heads)+0.5)\n",
    "                                    , bins=max(flips_till_heads)+1, grid=False)"
   ]
  },
  {
   "cell_type": "code",
   "execution_count": 37,
   "metadata": {},
   "outputs": [
    {
     "data": {
      "text/plain": [
       "0.03125"
      ]
     },
     "execution_count": 37,
     "metadata": {},
     "output_type": "execute_result"
    }
   ],
   "source": [
    "first_five = stats.geom.cdf(k=5,   # Prob of success in first 5 flips\n",
    "                           p=0.5)\n",
    "\n",
    "1 - first_five"
   ]
  },
  {
   "cell_type": "code",
   "execution_count": 38,
   "metadata": {},
   "outputs": [
    {
     "data": {
      "text/plain": [
       "0.25"
      ]
     },
     "execution_count": 38,
     "metadata": {},
     "output_type": "execute_result"
    }
   ],
   "source": [
    "stats.geom.pmf(k=2,   # Prob of needing exactly 2 flips to get first success\n",
    "              p=0.5)"
   ]
  },
  {
   "cell_type": "code",
   "execution_count": 40,
   "metadata": {},
   "outputs": [
    {
     "data": {
      "text/plain": [
       "<matplotlib.text.Text at 0xc7e5240>"
      ]
     },
     "execution_count": 40,
     "metadata": {},
     "output_type": "execute_result"
    },
    {
     "data": {
      "image/png": "[encoded data removed]",
      "text/plain": [
       "<matplotlib.figure.Figure at 0xc6d5a20>"
      ]
     },
     "metadata": {},
     "output_type": "display_data"
    }
   ],
   "source": [
    "plt.fill_between(x=np.arange(0,1,0.01), \n",
    "                 y1= stats.expon.pdf(np.arange(0,1,0.01)) ,\n",
    "                 facecolor='blue',\n",
    "                 alpha=0.35)\n",
    "\n",
    "plt.fill_between(x=np.arange(1,7,0.01), \n",
    "                 y1= stats.expon.pdf(np.arange(1,7,0.01)) ,\n",
    "                 facecolor='red',\n",
    "                 alpha=0.35)\n",
    "\n",
    "\n",
    "plt.text(x=0.3, y=0.2, s= round(prob_1,3))\n",
    "plt.text(x=1.5, y=0.08, s= round(1 - prob_1,3))"
   ]
  },
  {
   "cell_type": "code",
   "execution_count": 39,
   "metadata": {},
   "outputs": [
    {
     "data": {
      "text/plain": [
       "0.36787944117144233"
      ]
     },
     "execution_count": 39,
     "metadata": {},
     "output_type": "execute_result"
    }
   ],
   "source": [
    "# Get the probability of waiting more than 1 time unit before a success\n",
    "\n",
    "prob_1 = stats.expon.cdf(x=1,        \n",
    "                         scale=1)  # Arrival rate\n",
    "\n",
    "1 - prob_1"
   ]
  },
  {
   "cell_type": "markdown",
   "metadata": {},
   "source": [
    "### The poisson Distribution"
   ]
  },
  {
   "cell_type": "markdown",
   "metadata": {},
   "source": [
    "The Poisson distribution models the probability of seeing a certain number of successes within a time interval, where the time it takes for the next success is modeled by an exponential distribution. The Poisson distribution can be used to model traffic, such as the number of arrivals a hospital can expect in a hour's time or the number of emails you'd expect to receive in a week."
   ]
  },
  {
   "cell_type": "code",
   "execution_count": 43,
   "metadata": {},
   "outputs": [
    {
     "name": "stdout",
     "output_type": "stream",
     "text": [
      "col_0      0     1     2    3    4   5  6  7\n",
      "row_0                                       \n",
      "counts  3666  3681  1838  631  146  29  6  3\n"
     ]
    },
    {
     "data": {
      "text/plain": [
       "array([[<matplotlib.axes._subplots.AxesSubplot object at 0x000000000DB94438>]], dtype=object)"
      ]
     },
     "execution_count": 43,
     "metadata": {},
     "output_type": "execute_result"
    },
    {
     "data": {
      "image/png": "[encoded data removed]",
      "text/plain": [
       "<matplotlib.figure.Figure at 0xdb69c50>"
      ]
     },
     "metadata": {},
     "output_type": "display_data"
    }
   ],
   "source": [
    "\n",
    "random.seed(12)\n",
    "\n",
    "arrival_rate_1 = stats.poisson.rvs(size=10000,  # Generate Poisson data\n",
    "                                   mu=1 )       # Average arrival time 1\n",
    "\n",
    "# Print table of counts\n",
    "print( pd.crosstab(index=\"counts\", columns= arrival_rate_1))\n",
    "\n",
    "# Plot histogram\n",
    "pd.DataFrame(arrival_rate_1).hist(range=(-0.5,max(arrival_rate_1)+0.5)\n",
    "                                    , bins=max(arrival_rate_1)+1, grid=False)"
   ]
  },
  {
   "cell_type": "markdown",
   "metadata": {},
   "source": [
    "The histogram shows that when arrivals are relatively infrequent, it is rare to see more than a couple of arrivals in each time period. When the arrival rate is high, it becomes increasingly rare to see a low number of arrivals and the distribution starts to look more symmetric:"
   ]
  },
  {
   "cell_type": "code",
   "execution_count": 44,
   "metadata": {},
   "outputs": [
    {
     "name": "stdout",
     "output_type": "stream",
     "text": [
      "col_0   1   2   3    4    5    6    7     8     9     10 ...   14   15   16  \\\n",
      "row_0                                                    ...                  \n",
      "counts   2  15  86  193  396  626  948  1110  1239  1199 ...  529  354  226   \n",
      "\n",
      "col_0    17  18  19  20  21  22  23  \n",
      "row_0                                \n",
      "counts  128  63  40  18   6   3   4  \n",
      "\n",
      "[1 rows x 23 columns]\n"
     ]
    },
    {
     "data": {
      "text/plain": [
       "array([[<matplotlib.axes._subplots.AxesSubplot object at 0x000000000DBCCB00>]], dtype=object)"
      ]
     },
     "execution_count": 44,
     "metadata": {},
     "output_type": "execute_result"
    },
    {
     "data": {
      "image/png": "[encoded data removed]",
      "text/plain": [
       "<matplotlib.figure.Figure at 0xdad59b0>"
      ]
     },
     "metadata": {},
     "output_type": "display_data"
    }
   ],
   "source": [
    "random.seed(12)\n",
    "\n",
    "arrival_rate_10 = stats.poisson.rvs(size=10000,  # Generate Poisson data\n",
    "                                   mu=10 )       # Average arrival time 10\n",
    "\n",
    "# Print table of counts\n",
    "print( pd.crosstab(index=\"counts\", columns= arrival_rate_10))\n",
    "\n",
    "# Plot histogram\n",
    "pd.DataFrame(arrival_rate_10).hist(range=(-0.5,max(arrival_rate_10)+0.5)\n",
    "                                    , bins=max(arrival_rate_10)+1, grid=False)"
   ]
  },
  {
   "cell_type": "code",
   "execution_count": 46,
   "metadata": {},
   "outputs": [
    {
     "data": {
      "text/plain": [
       "0.067085962879031888"
      ]
     },
     "execution_count": 46,
     "metadata": {},
     "output_type": "execute_result"
    }
   ],
   "source": [
    "stats.poisson.cdf(k=5,     # Check the probability of 5 arrivals or less\n",
    "                  mu=10)   # With arrival rate 10"
   ]
  },
  {
   "cell_type": "code",
   "execution_count": 48,
   "metadata": {},
   "outputs": [
    {
     "data": {
      "text/plain": [
       "0.12511003572113372"
      ]
     },
     "execution_count": 48,
     "metadata": {},
     "output_type": "execute_result"
    }
   ],
   "source": [
    "stats.poisson.pmf(k=10,     # Check the prob f exactly 10 arrivals\n",
    "                  mu=10)    # With arrival rate 10"
   ]
  },
  {
   "cell_type": "markdown",
   "metadata": {},
   "source": [
    "Probability distribution functions are useful for generating random data, modeling random events and aiding with statistical tests and analysis."
   ]
  },
  {
   "cell_type": "code",
   "execution_count": null,
   "metadata": {
    "collapsed": true
   },
   "outputs": [],
   "source": []
  }
 ],
 "metadata": {
  "kernelspec": {
   "display_name": "Python 3",
   "language": "python",
   "name": "python3"
  },
  "language_info": {
   "codemirror_mode": {
    "name": "ipython",
    "version": 3
   },
   "file_extension": ".py",
   "mimetype": "text/x-python",
   "name": "python",
   "nbconvert_exporter": "python",
   "pygments_lexer": "ipython3",
   "version": "3.5.3"
  }
 },
 "nbformat": 4,
 "nbformat_minor": 2
}
