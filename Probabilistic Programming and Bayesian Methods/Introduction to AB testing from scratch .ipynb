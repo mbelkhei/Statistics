{
 "cells": [
  {
   "cell_type": "markdown",
   "metadata": {},
   "source": [
    "## The problem"
   ]
  },
  {
   "cell_type": "markdown",
   "metadata": {},
   "source": [
    "Assume there is a website that has two layouts. During the test, 4% of visitors to layout A convert (i.e., buy something, sign up for the mailing list, whatever), and 5% to layout B convert. When asking the question of which one is better, one could rush to say B. However, the test doesn't say much about the sample that has been used, thus, we don't have a 100% confidnce that choice B is better. in this notebook, we will use a basic implementation of Bayesian inference to build up an algorithm that can return a confidence number for our choice of layout."
   ]
  },
  {
   "cell_type": "code",
   "execution_count": 1,
   "metadata": {
    "collapsed": true
   },
   "outputs": [],
   "source": [
    "# import packages\n",
    "import random\n",
    "import itertools\n",
    "import matplotlib.pyplot as plt\n",
    "%matplotlib inline\n"
   ]
  },
  {
   "cell_type": "code",
   "execution_count": 2,
   "metadata": {
    "collapsed": true
   },
   "outputs": [],
   "source": [
    "# Set variables of the given problem\n",
    "\n",
    "n_visitors_a = 100  # number of visitors shown layout A\n",
    "n_conv_a = 4        # number of vistors shown layout A who converted\n",
    "\n",
    "n_visitors_b = 40\n",
    "n_conv_b = 2"
   ]
  },
  {
   "cell_type": "code",
   "execution_count": 3,
   "metadata": {},
   "outputs": [
    {
     "name": "stdout",
     "output_type": "stream",
     "text": [
      "Conversion rate for layout A is 4 %,\n",
      "Conversion rate for layout B is 5 %\n"
     ]
    }
   ],
   "source": [
    "print('Conversion rate for layout A is {:.0f} %,\\nConversion rate for layout B is {:.0f} %'.format((n_conv_a/n_visitors_a)*100,(n_conv_b/n_visitors_b)*100))"
   ]
  },
  {
   "cell_type": "code",
   "execution_count": 4,
   "metadata": {
    "collapsed": true
   },
   "outputs": [],
   "source": [
    "# Return number of vistors who convert, given conversion fraction p.\n",
    "def simulate_conversion(p, n_visitors):\n",
    "    outcomes = (random.random() < p for i in range(n_visitors))\n",
    "    return sum(outcomes)"
   ]
  },
  {
   "cell_type": "code",
   "execution_count": 5,
   "metadata": {},
   "outputs": [
    {
     "data": {
      "text/plain": [
       "(12, 9, 8)"
      ]
     },
     "execution_count": 5,
     "metadata": {},
     "output_type": "execute_result"
    }
   ],
   "source": [
    "simulate_conversion(0.1, 100), simulate_conversion(0.1, 100), simulate_conversion(0.1, 100)"
   ]
  },
  {
   "cell_type": "code",
   "execution_count": 6,
   "metadata": {
    "collapsed": true
   },
   "outputs": [],
   "source": [
    "# Yield random numbers in interval (0, 1). We assume that layout has a uniform distribution\n",
    "def uniform_prior_sampler():\n",
    "    while True:\n",
    "        yield random.random()"
   ]
  },
  {
   "cell_type": "code",
   "execution_count": 7,
   "metadata": {
    "collapsed": true
   },
   "outputs": [],
   "source": [
    "# a function that turns prior to a posterior\n",
    "def posterior_sampler(data, prior_sampler, simulate):\n",
    "    '''Yield samples from the posterior by Approximate Bayesian Computation.'''\n",
    "    for p in prior_sampler:\n",
    "        if simulate(p) == data:\n",
    "            yield p"
   ]
  },
  {
   "cell_type": "code",
   "execution_count": 8,
   "metadata": {
    "collapsed": true
   },
   "outputs": [],
   "source": [
    "# a function that returns n number of samples from a distribution\n",
    "def take(n, iterable):\n",
    "    return list(itertools.islice(iterable, n))"
   ]
  },
  {
   "cell_type": "code",
   "execution_count": 9,
   "metadata": {},
   "outputs": [
    {
     "data": {
      "text/plain": [
       "[0.5083734789685357, 0.5123260585202584, 0.05303509939630269]"
      ]
     },
     "execution_count": 9,
     "metadata": {},
     "output_type": "execute_result"
    }
   ],
   "source": [
    "take(3, uniform_prior_sampler())"
   ]
  },
  {
   "cell_type": "markdown",
   "metadata": {},
   "source": [
    "## Posterior of A"
   ]
  },
  {
   "cell_type": "code",
   "execution_count": 10,
   "metadata": {},
   "outputs": [],
   "source": [
    "posterior_a_sampler = posterior_sampler(\n",
    "    data=n_conv_a,\n",
    "    prior_sampler=uniform_prior_sampler(),\n",
    "    simulate=lambda p: simulate_conversion(p, n_visitors_a)\n",
    ")"
   ]
  },
  {
   "cell_type": "code",
   "execution_count": 11,
   "metadata": {},
   "outputs": [
    {
     "data": {
      "text/plain": [
       "[0.037610639233099485, 0.02139196466737825, 0.05182150048345546]"
      ]
     },
     "execution_count": 11,
     "metadata": {},
     "output_type": "execute_result"
    }
   ],
   "source": [
    "take(3, posterior_a_sampler)"
   ]
  },
  {
   "cell_type": "code",
   "execution_count": 12,
   "metadata": {
    "collapsed": true
   },
   "outputs": [],
   "source": [
    "# select 1k samples\n",
    "a_samples = take(10000, posterior_a_sampler)"
   ]
  },
  {
   "cell_type": "code",
   "execution_count": 13,
   "metadata": {},
   "outputs": [
    {
     "data": {
      "text/plain": [
       "(0, 0.245)"
      ]
     },
     "execution_count": 13,
     "metadata": {},
     "output_type": "execute_result"
    },
    {
     "data": {
      "image/png": "[encoded data removed]",
      "text/plain": [
       "<matplotlib.figure.Figure at 0x716e3895f8>"
      ]
     },
     "metadata": {},
     "output_type": "display_data"
    }
   ],
   "source": [
    "# plot histogram of 1k samples from posterior of layout a\n",
    "abbins = [i/200.0 for i in range(50)]          # 50 bins between 0 and 0.25\n",
    "plt.hist(a_samples, bins=abbins, normed=True)  # normed=True gives a probability density function\n",
    "plt.xlim(0, max(abbins))                       "
   ]
  },
  {
   "cell_type": "markdown",
   "metadata": {},
   "source": [
    "use the above posterior distribution to answer the following question: how likely it is that layout A's conversion fraction is greater than 10% ?"
   ]
  },
  {
   "cell_type": "code",
   "execution_count": 14,
   "metadata": {},
   "outputs": [
    {
     "name": "stdout",
     "output_type": "stream",
     "text": [
      "The likelyhood that layout A's conversion fraction is greater than 10% is : 2%\n"
     ]
    }
   ],
   "source": [
    "print(\"The likelyhood that layout A's conversion fraction is greater than 10% is : {:.0f}%\".format(sum(a > 0.1 for a in a_samples)/len(a_samples)*100))\n"
   ]
  },
  {
   "cell_type": "markdown",
   "metadata": {},
   "source": [
    "in other words we are 98% certain that layout A's conversion fraction is less than 10%"
   ]
  },
  {
   "cell_type": "markdown",
   "metadata": {},
   "source": [
    "## Next, add the posterior of B"
   ]
  },
  {
   "cell_type": "code",
   "execution_count": 15,
   "metadata": {
    "collapsed": true
   },
   "outputs": [],
   "source": [
    "# we assume that layout B has a normal distribution with mean 0.06 and std of 0.02\n",
    "def normal_prior_sampler(mu=0.06, sigma=0.02):\n",
    "    '''Yield stream of samples from N(mu, sigma) in interval (0, 1).'''\n",
    "    while True:\n",
    "        x = random.normalvariate(mu, sigma)\n",
    "        if 0 <= x <= 1:\n",
    "            yield x"
   ]
  },
  {
   "cell_type": "code",
   "execution_count": 16,
   "metadata": {},
   "outputs": [
    {
     "data": {
      "image/png": "[encoded data removed]",
      "text/plain": [
       "<matplotlib.figure.Figure at 0x716f8b8f98>"
      ]
     },
     "metadata": {},
     "output_type": "display_data"
    }
   ],
   "source": [
    "#plot both prior distributions\n",
    "plt.hist(take(100000, uniform_prior_sampler()), bins=abbins, label='A', normed=True)\n",
    "plt.hist(take(100000, normal_prior_sampler()), bins=abbins, label='B', alpha=0.5, normed=True)\n",
    "plt.title('Prior distributions')\n",
    "plt.xlim(0, max(abbins))\n",
    "plt.legend();"
   ]
  },
  {
   "cell_type": "code",
   "execution_count": 17,
   "metadata": {
    "collapsed": true
   },
   "outputs": [],
   "source": [
    "# Calculate the posterio of B\n",
    "posterior_b_sampler = posterior_sampler(\n",
    "    data=n_conv_b,\n",
    "    prior_sampler=normal_prior_sampler(),\n",
    "    simulate=lambda p: simulate_conversion(p, n_visitors_b)\n",
    ")\n",
    "b_samples = take(10000, posterior_b_sampler)"
   ]
  },
  {
   "cell_type": "code",
   "execution_count": 18,
   "metadata": {},
   "outputs": [
    {
     "data": {
      "image/png": "[encoded data removed]",
      "text/plain": [
       "<matplotlib.figure.Figure at 0x716fc01a90>"
      ]
     },
     "metadata": {},
     "output_type": "display_data"
    }
   ],
   "source": [
    "# plot posterior distributions for A and B\n",
    "plt.hist(a_samples, bins=abbins, label='A', normed=True)\n",
    "plt.hist(b_samples, bins=abbins, label='B', alpha=0.5, normed=True)\n",
    "plt.title('Posterior distributions')\n",
    "plt.xlim(0, max(abbins));\n",
    "plt.legend();"
   ]
  },
  {
   "cell_type": "code",
   "execution_count": 24,
   "metadata": {},
   "outputs": [
    {
     "name": "stdout",
     "output_type": "stream",
     "text": [
      "The likelyhood that layout B is better than layout A is : 65.89%\n"
     ]
    }
   ],
   "source": [
    "print(\"The likelyhood that layout B is better than layout A is : {:.2f}%\".format(sum(b > a for a, b in zip(a_samples, b_samples))/len(a_samples)*100))"
   ]
  },
  {
   "cell_type": "markdown",
   "metadata": {},
   "source": [
    "## References"
   ]
  },
  {
   "cell_type": "markdown",
   "metadata": {},
   "source": [
    "- [probabilistic programming from scratch](https://www.oreilly.com/learning/probabilistic-programming-from-scratch)\n",
    "- [Probabilistic Programming and Bayesian Methods for Hackers](http://nbviewer.jupyter.org/github/CamDavidsonPilon/Probabilistic-Programming-and-Bayesian-Methods-for-Hackers/)\n"
   ]
  }
 ],
 "metadata": {
  "kernelspec": {
   "display_name": "Python 3",
   "language": "python",
   "name": "python3"
  },
  "language_info": {
   "codemirror_mode": {
    "name": "ipython",
    "version": 3
   },
   "file_extension": ".py",
   "mimetype": "text/x-python",
   "name": "python",
   "nbconvert_exporter": "python",
   "pygments_lexer": "ipython3",
   "version": "3.5.4"
  }
 },
 "nbformat": 4,
 "nbformat_minor": 2
}
